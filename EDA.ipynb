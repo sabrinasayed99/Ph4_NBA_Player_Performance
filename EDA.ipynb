{
 "cells": [
  {
   "cell_type": "markdown",
   "metadata": {},
   "source": [
    "## Exploratory Data Analysis:"
   ]
  },
  {
   "cell_type": "code",
   "execution_count": 1,
   "metadata": {},
   "outputs": [],
   "source": [
    "import pandas as pd\n",
    "import numpy as np"
   ]
  },
  {
   "cell_type": "code",
   "execution_count": 2,
   "metadata": {},
   "outputs": [
    {
     "name": "stdout",
     "output_type": "stream",
     "text": [
      "<class 'pandas.core.frame.DataFrame'>\n",
      "RangeIndex: 313 entries, 0 to 312\n",
      "Data columns (total 53 columns):\n",
      " #   Column         Non-Null Count  Dtype  \n",
      "---  ------         --------------  -----  \n",
      " 0   Date           313 non-null    object \n",
      " 1   Team           313 non-null    object \n",
      " 2   Home/Away      313 non-null    object \n",
      " 3   Opp            313 non-null    object \n",
      " 4   W/L            313 non-null    object \n",
      " 5   MP/Game        313 non-null    int64  \n",
      " 6   FG             313 non-null    int64  \n",
      " 7   FGA            313 non-null    int64  \n",
      " 8   FG%            313 non-null    float64\n",
      " 9   3P             313 non-null    int64  \n",
      " 10  3PA            313 non-null    int64  \n",
      " 11  3P%            313 non-null    float64\n",
      " 12  FT             313 non-null    int64  \n",
      " 13  FTA            313 non-null    int64  \n",
      " 14  FT%            313 non-null    float64\n",
      " 15  ORB            313 non-null    int64  \n",
      " 16  DRB            313 non-null    int64  \n",
      " 17  TRB            313 non-null    int64  \n",
      " 18  AST            313 non-null    int64  \n",
      " 19  STL            313 non-null    int64  \n",
      " 20  BLK            313 non-null    int64  \n",
      " 21  TOV            313 non-null    int64  \n",
      " 22  PF             313 non-null    int64  \n",
      " 23  PTS            313 non-null    int64  \n",
      " 24  GmSc           313 non-null    float64\n",
      " 25  +/-            313 non-null    int64  \n",
      " 26  Opp_W/L%       313 non-null    float64\n",
      " 27  Opp_PS/G       313 non-null    float64\n",
      " 28  Opp_Rating     313 non-null    float64\n",
      " 29  Season         313 non-null    object \n",
      " 30  Tot_Games_Sn   313 non-null    float64\n",
      " 31  Games_Started  313 non-null    float64\n",
      " 32  MP/Season      313 non-null    float64\n",
      " 33  PER            313 non-null    float64\n",
      " 34  TS%            313 non-null    float64\n",
      " 35  3PAr           313 non-null    float64\n",
      " 36  FTr            313 non-null    float64\n",
      " 37  ORB%           313 non-null    float64\n",
      " 38  DRB%           313 non-null    float64\n",
      " 39  TRB%           313 non-null    float64\n",
      " 40  AST%           313 non-null    float64\n",
      " 41  STL%           313 non-null    float64\n",
      " 42  BLK%           313 non-null    float64\n",
      " 43  TOV%           313 non-null    float64\n",
      " 44  USG%           313 non-null    float64\n",
      " 45  OWS            313 non-null    float64\n",
      " 46  DWS            313 non-null    float64\n",
      " 47  WS             313 non-null    float64\n",
      " 48  WS/48          313 non-null    float64\n",
      " 49  OBPM           313 non-null    float64\n",
      " 50  DBPM           313 non-null    float64\n",
      " 51  BPM            313 non-null    float64\n",
      " 52  ValORP         313 non-null    float64\n",
      "dtypes: float64(30), int64(17), object(6)\n",
      "memory usage: 129.7+ KB\n"
     ]
    }
   ],
   "source": [
    "df = pd.read_csv('./combined_stats.csv')\n",
    "df.info()"
   ]
  },
  {
   "cell_type": "code",
   "execution_count": 5,
   "metadata": {},
   "outputs": [
    {
     "data": {
      "text/plain": [
       "Date   Team   Home/Away  Opp    W/L    MP/Game  FG     FGA    FG%    3P     3PA    3P%    FT     FTA    FT%    ORB    DRB    TRB    AST    STL    BLK    TOV    PF     PTS    GmSc   +/-    Opp_W/L%  Opp_PS/G  Opp_Rating  Season  Tot_Games_Sn  Games_Started  MP/Season  PER    TS%    3PAr   FTr    ORB%   DRB%   TRB%   AST%   STL%   BLK%   TOV%   USG%   OWS    DWS    WS     WS/48  OBPM   DBPM   BPM    ValORP\n",
       "False  False  False      False  False  False    False  False  False  False  False  False  False  False  False  False  False  False  False  False  False  False  False  False  False  False  False     False     False       False   False         False          False      False  False  False  False  False  False  False  False  False  False  False  False  False  False  False  False  False  False  False  False     313\n",
       "Name: count, dtype: int64"
      ]
     },
     "execution_count": 5,
     "metadata": {},
     "output_type": "execute_result"
    }
   ],
   "source": [
    "df.isna().value_counts()"
   ]
  },
  {
   "cell_type": "code",
   "execution_count": null,
   "metadata": {},
   "outputs": [],
   "source": [
    "import seaborn as sns\n",
    "import matplotlib.pyplot as plt\n",
    "\n",
    "plt.figure(figsize=(10, 8))\n",
    "sns.heatmap(combined_stats_df.corr(numeric_only=True), annot=True, cmap='coolwarm')\n",
    "plt.title('Correlation Heatmap')\n",
    "plt.show()"
   ]
  }
 ],
 "metadata": {
  "kernelspec": {
   "display_name": "Python 3",
   "language": "python",
   "name": "python3"
  },
  "language_info": {
   "codemirror_mode": {
    "name": "ipython",
    "version": 3
   },
   "file_extension": ".py",
   "mimetype": "text/x-python",
   "name": "python",
   "nbconvert_exporter": "python",
   "pygments_lexer": "ipython3",
   "version": "3.11.10"
  }
 },
 "nbformat": 4,
 "nbformat_minor": 2
}
