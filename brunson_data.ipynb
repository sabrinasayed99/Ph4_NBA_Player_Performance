{
 "cells": [
  {
   "cell_type": "code",
   "execution_count": 1,
   "metadata": {},
   "outputs": [],
   "source": [
    "import basketball_reference_web_scraper as web_scraper"
   ]
  },
  {
   "cell_type": "code",
   "execution_count": null,
   "metadata": {},
   "outputs": [],
   "source": [
    "import requests\n",
    "from bs4 import BeautifulSoup \n",
    "import pandas as pd\n",
    "\n",
    "def get_player_stats(player_name, team_name):\n",
    "    # URL for Jalen Brunson's player stats on Basketball Reference\n",
    "    url = f\"https://www.basketball-reference.com/players/b/brunsja01.html\"\n",
    "    \n",
    "    response = requests.get(url)\n",
    "    soup = BeautifulSoup(response.content, 'html.parser')\n",
    "    \n",
    "    # Find the table containing the player's stats\n",
    "    stats_table = soup.find('table', {'id': 'per_game'})\n",
    "    \n",
    "    # Read the stats into a DataFrame\n",
    "    stats_df = pd.read_html(str(stats_table))[0]\n",
    "    \n",
    "    # Filter for the specified team (Knicks)\n",
    "    stats_df = stats_df[stats_df['Team'] == team_name]\n",
    "    \n",
    "    return stats_df\n",
    "\n",
    "def main():\n",
    "    player_name = \"Jalen Brunson\"\n",
    "    team_name = \"NYK\"  # New York Knicks\n",
    "    \n",
    "    # Get Jalen Brunson's stats\n",
    "    brunson_stats = get_player_stats(player_name, team_name)\n",
    "    \n",
    "    # Display the compiled DataFrame\n",
    "    print(brunson_stats)\n",
    "\n",
    "if __name__ == \"__main__\":\n",
    "    main()"
   ]
  },
  {
   "cell_type": "code",
   "execution_count": 5,
   "metadata": {},
   "outputs": [],
   "source": [
    "from basketball_reference_web_scraper import client\n",
    "from basketball_reference_web_scraper.data import OutputType\n",
    "import pandas as pd\n",
    "\n",
    "def get_brunson_regular_23_24():\n",
    "    #Brunson 23-24 regular season stats\n",
    "    try:\n",
    "        brunson_reg_23 = client.regular_season_player_box_scores(player_identifier=\"brunsja01\",\n",
    "                                            season_end_year=2024,\n",
    "                                            output_type=OutputType.CSV, \n",
    "                                            output_file_path='./23_24_brunson_regular_season_box_scores.csv')\n",
    "\n",
    "    #Convert to Dataframe\n",
    "        regular_23_season_df = pd.DataFrame(brunson_reg_23)\n",
    "\n",
    "        return regular_23_season_df\n",
    "    except Exception as e:\n",
    "        print(\"Error retrieving 23-24 regular season data:\", e)\n",
    "\n",
    "def get_brunson_playoffs_23_24():\n",
    "    # Brunson 23-24 playoff season box scores  \n",
    "    try:\n",
    "        brunson_playoff_23 = client.playoff_player_box_scores(player_identifier=\"brunsja01\",\n",
    "                                     season_end_year=2024, \n",
    "                                     output_type=OutputType.CSV,\n",
    "                                     output_file_path=\"./23_24_brunson_playoffs_box_scores.csv\")\n",
    "\n",
    "    #Convert to Dataframe\n",
    "        playoff_23_season_df = pd.DataFrame(brunson_playoff_23)\n",
    "\n",
    "        return playoff_23_season_df\n",
    "    except Exception as e:\n",
    "        print(\"Error retrieving 23-24 playoff season data:\", e)\n",
    "\n",
    "def get_brunson_regular_24_25():\n",
    "    #Brunson 24-25 regular season stats\n",
    "    try:\n",
    "        brunson_reg_24 = client.regular_season_player_box_scores(player_identifier=\"brunsja01\",\n",
    "                                            season_end_year=2025,\n",
    "                                            output_type=OutputType.CSV, \n",
    "                                            output_file_path='./24_25_brunson_regular_season_box_scores.csv')\n",
    "    \n",
    "        #Convert to Dataframe\n",
    "        regular_24_season_df = pd.DataFrame(brunson_reg_24)\n",
    "\n",
    "        return regular_24_season_df\n",
    "    except Exception as e:\n",
    "        print(\"Error retrieving 24-25 regular season data:\", e)\n",
    "\n"
   ]
  },
  {
   "cell_type": "code",
   "execution_count": 9,
   "metadata": {},
   "outputs": [],
   "source": [
    "regular_23_24 = get_brunson_regular_23_24()\n",
    "playoff_23_24 = get_brunson_playoffs_23_24()\n",
    "regular_24_25 = get_brunson_regular_24_25()"
   ]
  },
  {
   "cell_type": "code",
   "execution_count": null,
   "metadata": {},
   "outputs": [],
   "source": []
  },
  {
   "cell_type": "code",
   "execution_count": 6,
   "metadata": {},
   "outputs": [
    {
     "name": "stdout",
     "output_type": "stream",
     "text": [
      "Data successfully saved to './brunson_combined_stats.csv'\n",
      "Empty DataFrame\n",
      "Columns: []\n",
      "Index: []\n"
     ]
    }
   ],
   "source": [
    "def combine_data():\n",
    "    try:\n",
    "        regular_23_24 = get_brunson_regular_23_24()\n",
    "        playoff_23_24 = get_brunson_playoffs_23_24()\n",
    "        regular_24_25 = get_brunson_regular_24_25()\n",
    "\n",
    "        # Combine all DataFrames into a single DataFrame\n",
    "        combined_df = pd.concat([regular_23_24, playoff_23_24, regular_24_25], ignore_index=True)\n",
    "        \n",
    "        # Save combined data to a CSV file\n",
    "        combined_df.to_csv('./brunson_combined_stats.csv', index=False)\n",
    "\n",
    "        print(\"Data successfully saved to './brunson_combined_stats.csv'\")\n",
    "        return combined_df\n",
    "    \n",
    "    except Exception as e:\n",
    "        print(\"Error combining data:\", e)\n",
    "    \n",
    "combined_data = combine_data()\n",
    "print(combined_data.head())\n",
    "\n"
   ]
  },
  {
   "cell_type": "code",
   "execution_count": 8,
   "metadata": {},
   "outputs": [
    {
     "ename": "NameError",
     "evalue": "name 'regular_23_24' is not defined",
     "output_type": "error",
     "traceback": [
      "\u001b[0;31m---------------------------------------------------------------------------\u001b[0m",
      "\u001b[0;31mNameError\u001b[0m                                 Traceback (most recent call last)",
      "Cell \u001b[0;32mIn[8], line 1\u001b[0m\n\u001b[0;32m----> 1\u001b[0m regular_23_24\n",
      "\u001b[0;31mNameError\u001b[0m: name 'regular_23_24' is not defined"
     ]
    }
   ],
   "source": []
  },
  {
   "cell_type": "code",
   "execution_count": null,
   "metadata": {},
   "outputs": [],
   "source": []
  }
 ],
 "metadata": {
  "kernelspec": {
   "display_name": "Python 3",
   "language": "python",
   "name": "python3"
  },
  "language_info": {
   "codemirror_mode": {
    "name": "ipython",
    "version": 3
   },
   "file_extension": ".py",
   "mimetype": "text/x-python",
   "name": "python",
   "nbconvert_exporter": "python",
   "pygments_lexer": "ipython3",
   "version": "3.11.10"
  }
 },
 "nbformat": 4,
 "nbformat_minor": 2
}
